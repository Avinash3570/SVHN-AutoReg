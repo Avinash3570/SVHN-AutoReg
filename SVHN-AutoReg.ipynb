{
  "nbformat": 4,
  "nbformat_minor": 0,
  "metadata": {
    "colab": {
      "provenance": []
    },
    "kernelspec": {
      "name": "python3",
      "display_name": "Python 3"
    },
    "language_info": {
      "name": "python"
    }
  },
  "cells": [
    {
      "cell_type": "code",
      "execution_count": null,
      "metadata": {
        "id": "FhInLW1mcInu"
      },
      "outputs": [],
      "source": [
        "import torch\n",
        "import torchvision\n",
        "import torchvision.transforms as transforms\n",
        "from torch.utils.data import DataLoader, random_split\n",
        "import torch.nn as nn\n",
        "import torch.optim as optim\n",
        "import numpy as np\n",
        "from sklearn.metrics import precision_score, recall_score, f1_score, confusion_matrix\n",
        "import matplotlib.pyplot as plt\n",
        "import seaborn as sns\n",
        "import torch.nn.functional as F\n"
      ]
    },
    {
      "cell_type": "code",
      "execution_count": null,
      "metadata": {
        "id": "Q-CJq8-gcInv",
        "outputId": "06015080-155c-4ccc-e815-431d64fe595d"
      },
      "outputs": [
        {
          "name": "stdout",
          "output_type": "stream",
          "text": [
            "cpu\n"
          ]
        }
      ],
      "source": [
        "device = torch.device(\"cuda\" if torch.cuda.is_available() else \"cpu\")\n",
        "print(device)"
      ]
    },
    {
      "cell_type": "code",
      "execution_count": null,
      "metadata": {
        "id": "U6CQyTyDcInw"
      },
      "outputs": [],
      "source": [
        "seed = 42\n",
        "torch.manual_seed(seed)\n",
        "torch.backends.cudnn.benchmark = False\n",
        "torch.backends.cudnn.deterministic = True"
      ]
    },
    {
      "cell_type": "code",
      "execution_count": null,
      "metadata": {
        "id": "llGRx1TbcInw"
      },
      "outputs": [],
      "source": [
        "transform = transforms.Compose([\n",
        "    transforms.RandomRotation(10),\n",
        "    transforms.RandomAffine(degrees=0, scale=(0.9, 1.1)),\n",
        "    transforms.ToTensor(),\n",
        "    transforms.Normalize((0.5,), (0.5,))\n",
        "])"
      ]
    },
    {
      "cell_type": "code",
      "execution_count": null,
      "metadata": {
        "id": "YCh7D5JEcInw",
        "outputId": "d9d7017d-6312-4ea8-c4b8-3ec4a9647b47"
      },
      "outputs": [
        {
          "name": "stdout",
          "output_type": "stream",
          "text": [
            "Using downloaded and verified file: ./data\\train_32x32.mat\n",
            "Using downloaded and verified file: ./data\\test_32x32.mat\n"
          ]
        }
      ],
      "source": [
        "batch_size = 512\n",
        "\n",
        "train_dataset = torchvision.datasets.SVHN(root='./data', split='train', download=True, transform=transform)\n",
        "\n",
        "total_train_size = len(train_dataset)\n",
        "\n",
        "validation_split = 0.2\n",
        "train_split = int(total_train_size * (1 - validation_split))\n",
        "val_split = total_train_size - train_split\n",
        "\n",
        "train_subset, val_subset = random_split(train_dataset, [train_split, val_split])\n",
        "\n",
        "train_loader = torch.utils.data.DataLoader(\n",
        "    train_subset, batch_size=batch_size, shuffle=True\n",
        ")\n",
        "\n",
        "val_loader = torch.utils.data.DataLoader(\n",
        "    val_subset, batch_size=batch_size, shuffle=False\n",
        ")\n",
        "\n",
        "test_dataset = torchvision.datasets.SVHN(root='./data', split='test', download=True, transform=transform)\n",
        "\n",
        "test_loader = torch.utils.data.DataLoader(\n",
        "    test_dataset, batch_size=10, shuffle=False\n",
        ")"
      ]
    },
    {
      "cell_type": "code",
      "execution_count": null,
      "metadata": {
        "id": "hTf_uSrJcInw"
      },
      "outputs": [],
      "source": [
        "class Autoencoder(nn.Module):\n",
        "    def __init__(self):\n",
        "        super(Autoencoder, self).__init__()\n",
        "\n",
        "        self.encoder = nn.Sequential(\n",
        "            nn.Conv2d(3, 32, kernel_size=3, stride=2, padding=1),\n",
        "            nn.BatchNorm2d(32),\n",
        "            nn.ReLU(),\n",
        "\n",
        "            nn.Conv2d(32, 64, kernel_size=3, stride=2, padding=1),\n",
        "            nn.BatchNorm2d(64),\n",
        "            nn.ReLU(),\n",
        "\n",
        "            nn.Conv2d(64, 128, kernel_size=3, stride=2, padding=1),\n",
        "            nn.BatchNorm2d(128),\n",
        "            nn.ReLU()\n",
        "        )\n",
        "\n",
        "        self.decoder = nn.Sequential(\n",
        "            nn.ConvTranspose2d(128, 64, kernel_size=3, stride=2, padding=1, output_padding=1),\n",
        "            nn.BatchNorm2d(64),\n",
        "            nn.ReLU(),\n",
        "\n",
        "            nn.ConvTranspose2d(64, 32, kernel_size=3, stride=2, padding=1, output_padding=1),\n",
        "            nn.BatchNorm2d(32),\n",
        "            nn.ReLU(),\n",
        "\n",
        "            nn.ConvTranspose2d(32, 3, kernel_size=3, stride=2, padding=1, output_padding=1),\n",
        "            nn.Tanh()\n",
        "        )\n",
        "\n",
        "    def forward(self, x):\n",
        "        encoded = self.encoder(x)\n",
        "        decoded = self.decoder(encoded)\n",
        "        return decoded\n"
      ]
    },
    {
      "cell_type": "code",
      "execution_count": null,
      "metadata": {
        "id": "hMNAjdSOcInw"
      },
      "outputs": [],
      "source": [
        "def clip_weights(model, min_val, max_val):\n",
        "    with torch.no_grad():\n",
        "        for param in model.parameters():\n",
        "            param.clamp_(min_val, max_val)"
      ]
    },
    {
      "cell_type": "code",
      "execution_count": null,
      "metadata": {
        "id": "gJiwQ7o6cInx",
        "outputId": "4e6d9487-d644-4a2f-ea16-2f5205a214df"
      },
      "outputs": [
        {
          "name": "stdout",
          "output_type": "stream",
          "text": [
            "Epoch [1/100] | Train Loss: 0.055436 | Val Loss: 0.016182\n",
            "Epoch [2/100] | Train Loss: 0.011655 | Val Loss: 0.009270\n",
            "Epoch [3/100] | Train Loss: 0.007842 | Val Loss: 0.006977\n",
            "Epoch [4/100] | Train Loss: 0.006112 | Val Loss: 0.005389\n",
            "Epoch [5/100] | Train Loss: 0.005212 | Val Loss: 0.004800\n",
            "Epoch [6/100] | Train Loss: 0.004605 | Val Loss: 0.005170\n",
            "Epoch [7/100] | Train Loss: 0.004199 | Val Loss: 0.003672\n",
            "Epoch [8/100] | Train Loss: 0.003745 | Val Loss: 0.003866\n",
            "Epoch [9/100] | Train Loss: 0.003548 | Val Loss: 0.003299\n",
            "Epoch [10/100] | Train Loss: 0.003246 | Val Loss: 0.003856\n",
            "Epoch [11/100] | Train Loss: 0.003143 | Val Loss: 0.002768\n",
            "Epoch [12/100] | Train Loss: 0.002910 | Val Loss: 0.002679\n",
            "Epoch [13/100] | Train Loss: 0.002802 | Val Loss: 0.002460\n",
            "Epoch [14/100] | Train Loss: 0.002886 | Val Loss: 0.002481\n",
            "Epoch [15/100] | Train Loss: 0.002586 | Val Loss: 0.003035\n",
            "Epoch [16/100] | Train Loss: 0.002676 | Val Loss: 0.002209\n",
            "Epoch [17/100] | Train Loss: 0.002419 | Val Loss: 0.002547\n",
            "Epoch [18/100] | Train Loss: 0.002430 | Val Loss: 0.002416\n",
            "Epoch [19/100] | Train Loss: 0.002377 | Val Loss: 0.002123\n",
            "Epoch [20/100] | Train Loss: 0.002306 | Val Loss: 0.002094\n",
            "Epoch [21/100] | Train Loss: 0.002191 | Val Loss: 0.002264\n",
            "Epoch [22/100] | Train Loss: 0.002178 | Val Loss: 0.002568\n",
            "Epoch [23/100] | Train Loss: 0.002151 | Val Loss: 0.002082\n",
            "Epoch [24/100] | Train Loss: 0.001995 | Val Loss: 0.002138\n",
            "Epoch [25/100] | Train Loss: 0.002027 | Val Loss: 0.001716\n",
            "Epoch [26/100] | Train Loss: 0.001903 | Val Loss: 0.001813\n",
            "Epoch [27/100] | Train Loss: 0.001963 | Val Loss: 0.001633\n",
            "Epoch [28/100] | Train Loss: 0.001992 | Val Loss: 0.002861\n",
            "Epoch [29/100] | Train Loss: 0.001917 | Val Loss: 0.001833\n",
            "Epoch [30/100] | Train Loss: 0.001745 | Val Loss: 0.001651\n",
            "Epoch [31/100] | Train Loss: 0.001867 | Val Loss: 0.001659\n",
            "Epoch [32/100] | Train Loss: 0.001763 | Val Loss: 0.001689\n",
            "Epoch [33/100] | Train Loss: 0.001686 | Val Loss: 0.001765\n",
            "Epoch [34/100] | Train Loss: 0.001591 | Val Loss: 0.001548\n",
            "Epoch [35/100] | Train Loss: 0.001647 | Val Loss: 0.001500\n",
            "Epoch [36/100] | Train Loss: 0.001585 | Val Loss: 0.001266\n",
            "Epoch [37/100] | Train Loss: 0.001519 | Val Loss: 0.001228\n",
            "Epoch [38/100] | Train Loss: 0.001662 | Val Loss: 0.001758\n",
            "Epoch [39/100] | Train Loss: 0.001526 | Val Loss: 0.001514\n",
            "Epoch [40/100] | Train Loss: 0.001624 | Val Loss: 0.001347\n",
            "Epoch [41/100] | Train Loss: 0.001480 | Val Loss: 0.001260\n",
            "Epoch [42/100] | Train Loss: 0.001437 | Val Loss: 0.001292\n",
            "Epoch [43/100] | Train Loss: 0.001478 | Val Loss: 0.001120\n",
            "Epoch [44/100] | Train Loss: 0.001390 | Val Loss: 0.001182\n",
            "Epoch [45/100] | Train Loss: 0.001403 | Val Loss: 0.002645\n",
            "Epoch [46/100] | Train Loss: 0.001414 | Val Loss: 0.001114\n",
            "Epoch [47/100] | Train Loss: 0.001387 | Val Loss: 0.001156\n",
            "Epoch [48/100] | Train Loss: 0.001300 | Val Loss: 0.001087\n",
            "Epoch [49/100] | Train Loss: 0.001382 | Val Loss: 0.001187\n",
            "Epoch [50/100] | Train Loss: 0.001414 | Val Loss: 0.001098\n",
            "Epoch [51/100] | Train Loss: 0.001329 | Val Loss: 0.001210\n",
            "Epoch [52/100] | Train Loss: 0.001322 | Val Loss: 0.000992\n",
            "Epoch [53/100] | Train Loss: 0.001377 | Val Loss: 0.001126\n",
            "Epoch [54/100] | Train Loss: 0.001264 | Val Loss: 0.002086\n",
            "Epoch [55/100] | Train Loss: 0.001306 | Val Loss: 0.001207\n",
            "Epoch [56/100] | Train Loss: 0.001238 | Val Loss: 0.001005\n",
            "Epoch [57/100] | Train Loss: 0.001260 | Val Loss: 0.001145\n",
            "Epoch [58/100] | Train Loss: 0.001236 | Val Loss: 0.001130\n",
            "Epoch [59/100] | Train Loss: 0.001272 | Val Loss: 0.001430\n",
            "Epoch [60/100] | Train Loss: 0.001324 | Val Loss: 0.001042\n",
            "Epoch [61/100] | Train Loss: 0.001225 | Val Loss: 0.000984\n",
            "Epoch [62/100] | Train Loss: 0.001166 | Val Loss: 0.000903\n",
            "Epoch [63/100] | Train Loss: 0.001200 | Val Loss: 0.000935\n",
            "Epoch [64/100] | Train Loss: 0.001122 | Val Loss: 0.001041\n",
            "Epoch [65/100] | Train Loss: 0.001213 | Val Loss: 0.001172\n",
            "Epoch [66/100] | Train Loss: 0.001124 | Val Loss: 0.000918\n",
            "Epoch [67/100] | Train Loss: 0.001144 | Val Loss: 0.000810\n",
            "Epoch [68/100] | Train Loss: 0.001129 | Val Loss: 0.000808\n",
            "Epoch [69/100] | Train Loss: 0.001184 | Val Loss: 0.000879\n",
            "Epoch [70/100] | Train Loss: 0.001099 | Val Loss: 0.000831\n",
            "Epoch [71/100] | Train Loss: 0.001072 | Val Loss: 0.000883\n",
            "Epoch [72/100] | Train Loss: 0.001044 | Val Loss: 0.000815\n",
            "Epoch [73/100] | Train Loss: 0.001083 | Val Loss: 0.001045\n",
            "Epoch [74/100] | Train Loss: 0.001000 | Val Loss: 0.000883\n",
            "Epoch [75/100] | Train Loss: 0.001064 | Val Loss: 0.000907\n",
            "Epoch [76/100] | Train Loss: 0.001133 | Val Loss: 0.000781\n",
            "Epoch [77/100] | Train Loss: 0.001032 | Val Loss: 0.000698\n",
            "Epoch [78/100] | Train Loss: 0.001016 | Val Loss: 0.000807\n",
            "Epoch [79/100] | Train Loss: 0.001061 | Val Loss: 0.000851\n",
            "Epoch [80/100] | Train Loss: 0.001025 | Val Loss: 0.000894\n",
            "Epoch [81/100] | Train Loss: 0.001059 | Val Loss: 0.000843\n",
            "Epoch [82/100] | Train Loss: 0.001116 | Val Loss: 0.000926\n",
            "Epoch [83/100] | Train Loss: 0.001073 | Val Loss: 0.000833\n",
            "Epoch [84/100] | Train Loss: 0.001175 | Val Loss: 0.000839\n",
            "Epoch [85/100] | Train Loss: 0.001055 | Val Loss: 0.000787\n",
            "Epoch [86/100] | Train Loss: 0.000968 | Val Loss: 0.000653\n",
            "Epoch [87/100] | Train Loss: 0.001021 | Val Loss: 0.000733\n",
            "Epoch [88/100] | Train Loss: 0.001048 | Val Loss: 0.000823\n",
            "Epoch [89/100] | Train Loss: 0.001067 | Val Loss: 0.001092\n",
            "Epoch [90/100] | Train Loss: 0.000983 | Val Loss: 0.000797\n",
            "Epoch [91/100] | Train Loss: 0.000936 | Val Loss: 0.000913\n",
            "Epoch [92/100] | Train Loss: 0.000932 | Val Loss: 0.000694\n",
            "Epoch [93/100] | Train Loss: 0.000966 | Val Loss: 0.000971\n",
            "Epoch [94/100] | Train Loss: 0.000963 | Val Loss: 0.000706\n",
            "Epoch [95/100] | Train Loss: 0.000956 | Val Loss: 0.000798\n",
            "Epoch [96/100] | Train Loss: 0.000975 | Val Loss: 0.000761\n",
            "Epoch [97/100] | Train Loss: 0.001004 | Val Loss: 0.000647\n",
            "Epoch [98/100] | Train Loss: 0.000981 | Val Loss: 0.000651\n",
            "Epoch [99/100] | Train Loss: 0.000952 | Val Loss: 0.000715\n",
            "Epoch [100/100] | Train Loss: 0.000980 | Val Loss: 0.000750\n"
          ]
        }
      ],
      "source": [
        "model1 = Autoencoder().to(device)\n",
        "criterion = nn.MSELoss()\n",
        "optimizer = optim.Adam(model1.parameters(), lr=0.001)\n",
        "\n",
        "num_epochs = 100\n",
        "for epoch in range(num_epochs):\n",
        "\n",
        "    model1.train()\n",
        "    train_loss = 0\n",
        "\n",
        "    for img, _ in train_loader:\n",
        "        img = img.to(device)\n",
        "        optimizer.zero_grad()\n",
        "        output = model1(img.view(-1, 3, 32, 32))\n",
        "        loss = criterion(output, img)\n",
        "        loss.backward()\n",
        "        optimizer.step()\n",
        "        clip_weights(model1, -0.5, 0.5)\n",
        "        train_loss += loss.item() * img.size(0)\n",
        "\n",
        "    avg_train_loss = train_loss / len(train_loader.dataset)\n",
        "\n",
        "    model1.eval()\n",
        "    val_loss = 0\n",
        "    with torch.no_grad():\n",
        "        for img, _ in val_loader:\n",
        "            img = img.to(device)\n",
        "            output = model1(img.view(-1, 3, 32, 32))\n",
        "            loss = criterion(output, img)\n",
        "            val_loss += loss.item() * img.size(0)\n",
        "\n",
        "    avg_val_loss = val_loss / len(val_loader.dataset)\n",
        "\n",
        "    print(f\"Epoch [{epoch+1}/{num_epochs}] | Train Loss: {avg_train_loss:.6f} | Val Loss: {avg_val_loss:.6f}\")"
      ]
    },
    {
      "cell_type": "code",
      "execution_count": null,
      "metadata": {
        "id": "MU4xoMoicInx",
        "outputId": "f190ad08-efe7-4ce8-d277-a1221ff7d6ac"
      },
      "outputs": [
        {
          "name": "stdout",
          "output_type": "stream",
          "text": [
            "Epoch [1/100] | Train Loss: 1.077842 | Val Loss: 0.383685\n",
            "Epoch [2/100] | Train Loss: 0.255096 | Val Loss: 0.213667\n",
            "Epoch [3/100] | Train Loss: 0.196039 | Val Loss: 0.166209\n",
            "Epoch [4/100] | Train Loss: 0.126348 | Val Loss: 0.112861\n",
            "Epoch [5/100] | Train Loss: 0.095489 | Val Loss: 0.089805\n",
            "Epoch [6/100] | Train Loss: 0.085365 | Val Loss: 0.085839\n",
            "Epoch [7/100] | Train Loss: 0.082856 | Val Loss: 0.083547\n",
            "Epoch [8/100] | Train Loss: 0.080841 | Val Loss: 0.085772\n",
            "Epoch [9/100] | Train Loss: 0.077173 | Val Loss: 0.080080\n",
            "Epoch [10/100] | Train Loss: 0.074028 | Val Loss: 0.074645\n",
            "Epoch [11/100] | Train Loss: 0.072017 | Val Loss: 0.076086\n",
            "Epoch [12/100] | Train Loss: 0.070893 | Val Loss: 0.072145\n",
            "Epoch [13/100] | Train Loss: 0.070672 | Val Loss: 0.070061\n",
            "Epoch [14/100] | Train Loss: 0.070605 | Val Loss: 0.071420\n",
            "Epoch [15/100] | Train Loss: 0.070498 | Val Loss: 0.072167\n",
            "Epoch [16/100] | Train Loss: 0.070764 | Val Loss: 0.071570\n",
            "Epoch [17/100] | Train Loss: 0.070867 | Val Loss: 0.072934\n",
            "Epoch [18/100] | Train Loss: 0.070974 | Val Loss: 0.072395\n",
            "Epoch [19/100] | Train Loss: 0.070956 | Val Loss: 0.071989\n",
            "Epoch [20/100] | Train Loss: 0.070947 | Val Loss: 0.075826\n",
            "Epoch [21/100] | Train Loss: 0.070835 | Val Loss: 0.073119\n",
            "Epoch [22/100] | Train Loss: 0.070989 | Val Loss: 0.072825\n",
            "Epoch [23/100] | Train Loss: 0.070852 | Val Loss: 0.073457\n",
            "Epoch [24/100] | Train Loss: 0.070468 | Val Loss: 0.073603\n",
            "Epoch [25/100] | Train Loss: 0.070640 | Val Loss: 0.072995\n",
            "Epoch [26/100] | Train Loss: 0.070615 | Val Loss: 0.070168\n",
            "Epoch [27/100] | Train Loss: 0.070407 | Val Loss: 0.080008\n",
            "Epoch [28/100] | Train Loss: 0.070155 | Val Loss: 0.073839\n",
            "Epoch [29/100] | Train Loss: 0.070014 | Val Loss: 0.073736\n",
            "Epoch [30/100] | Train Loss: 0.070041 | Val Loss: 0.070751\n",
            "Epoch [31/100] | Train Loss: 0.069808 | Val Loss: 0.070163\n",
            "Epoch [32/100] | Train Loss: 0.070312 | Val Loss: 0.070341\n",
            "Epoch [33/100] | Train Loss: 0.069765 | Val Loss: 0.070121\n",
            "Epoch [34/100] | Train Loss: 0.069701 | Val Loss: 0.077701\n",
            "Epoch [35/100] | Train Loss: 0.069469 | Val Loss: 0.070829\n",
            "Epoch [36/100] | Train Loss: 0.069205 | Val Loss: 0.069725\n",
            "Epoch [37/100] | Train Loss: 0.068894 | Val Loss: 0.069657\n",
            "Epoch [38/100] | Train Loss: 0.069096 | Val Loss: 0.071212\n",
            "Epoch [39/100] | Train Loss: 0.069092 | Val Loss: 0.069481\n",
            "Epoch [40/100] | Train Loss: 0.069279 | Val Loss: 0.072828\n",
            "Epoch [41/100] | Train Loss: 0.068781 | Val Loss: 0.069412\n",
            "Epoch [42/100] | Train Loss: 0.069403 | Val Loss: 0.071151\n",
            "Epoch [43/100] | Train Loss: 0.069144 | Val Loss: 0.069344\n",
            "Epoch [44/100] | Train Loss: 0.069270 | Val Loss: 0.073480\n",
            "Epoch [45/100] | Train Loss: 0.068936 | Val Loss: 0.070102\n",
            "Epoch [46/100] | Train Loss: 0.068779 | Val Loss: 0.070032\n",
            "Epoch [47/100] | Train Loss: 0.069418 | Val Loss: 0.071269\n",
            "Epoch [48/100] | Train Loss: 0.068998 | Val Loss: 0.070261\n",
            "Epoch [49/100] | Train Loss: 0.068854 | Val Loss: 0.070057\n",
            "Epoch [50/100] | Train Loss: 0.069135 | Val Loss: 0.072637\n",
            "Epoch [51/100] | Train Loss: 0.068990 | Val Loss: 0.072791\n",
            "Epoch [52/100] | Train Loss: 0.069250 | Val Loss: 0.072104\n",
            "Epoch [53/100] | Train Loss: 0.069171 | Val Loss: 0.072232\n",
            "Epoch [54/100] | Train Loss: 0.069173 | Val Loss: 0.070704\n",
            "Epoch [55/100] | Train Loss: 0.069156 | Val Loss: 0.072833\n",
            "Epoch [56/100] | Train Loss: 0.069019 | Val Loss: 0.071942\n",
            "Epoch [57/100] | Train Loss: 0.069092 | Val Loss: 0.075964\n",
            "Epoch [58/100] | Train Loss: 0.069123 | Val Loss: 0.074379\n",
            "Epoch [59/100] | Train Loss: 0.069207 | Val Loss: 0.069965\n",
            "Epoch [60/100] | Train Loss: 0.069250 | Val Loss: 0.071013\n",
            "Epoch [61/100] | Train Loss: 0.069234 | Val Loss: 0.070850\n",
            "Epoch [62/100] | Train Loss: 0.069210 | Val Loss: 0.072619\n",
            "Epoch [63/100] | Train Loss: 0.069145 | Val Loss: 0.070135\n",
            "Epoch [64/100] | Train Loss: 0.069296 | Val Loss: 0.070606\n",
            "Epoch [65/100] | Train Loss: 0.069018 | Val Loss: 0.070506\n",
            "Epoch [66/100] | Train Loss: 0.069098 | Val Loss: 0.072744\n",
            "Epoch [67/100] | Train Loss: 0.069189 | Val Loss: 0.070244\n",
            "Epoch [68/100] | Train Loss: 0.068954 | Val Loss: 0.070091\n",
            "Epoch [69/100] | Train Loss: 0.069295 | Val Loss: 0.078460\n",
            "Epoch [70/100] | Train Loss: 0.069440 | Val Loss: 0.073162\n",
            "Epoch [71/100] | Train Loss: 0.069056 | Val Loss: 0.070259\n",
            "Epoch [72/100] | Train Loss: 0.069085 | Val Loss: 0.072979\n",
            "Epoch [73/100] | Train Loss: 0.069090 | Val Loss: 0.071872\n",
            "Epoch [74/100] | Train Loss: 0.069209 | Val Loss: 0.069999\n",
            "Epoch [75/100] | Train Loss: 0.069200 | Val Loss: 0.069867\n",
            "Epoch [76/100] | Train Loss: 0.069344 | Val Loss: 0.075090\n",
            "Epoch [77/100] | Train Loss: 0.069167 | Val Loss: 0.077411\n",
            "Epoch [78/100] | Train Loss: 0.069261 | Val Loss: 0.070517\n",
            "Epoch [79/100] | Train Loss: 0.068907 | Val Loss: 0.070269\n",
            "Epoch [80/100] | Train Loss: 0.069448 | Val Loss: 0.077254\n",
            "Epoch [81/100] | Train Loss: 0.069178 | Val Loss: 0.073896\n",
            "Epoch [82/100] | Train Loss: 0.069172 | Val Loss: 0.072239\n",
            "Epoch [83/100] | Train Loss: 0.069177 | Val Loss: 0.072657\n",
            "Epoch [84/100] | Train Loss: 0.069195 | Val Loss: 0.071279\n",
            "Epoch [85/100] | Train Loss: 0.069197 | Val Loss: 0.071794\n",
            "Epoch [86/100] | Train Loss: 0.069033 | Val Loss: 0.069952\n",
            "Epoch [87/100] | Train Loss: 0.069147 | Val Loss: 0.071298\n",
            "Epoch [88/100] | Train Loss: 0.069104 | Val Loss: 0.071029\n",
            "Epoch [89/100] | Train Loss: 0.069063 | Val Loss: 0.070525\n",
            "Epoch [90/100] | Train Loss: 0.069260 | Val Loss: 0.070195\n",
            "Epoch [91/100] | Train Loss: 0.069236 | Val Loss: 0.074854\n",
            "Epoch [92/100] | Train Loss: 0.069304 | Val Loss: 0.072407\n",
            "Epoch [93/100] | Train Loss: 0.069352 | Val Loss: 0.070489\n",
            "Epoch [94/100] | Train Loss: 0.069036 | Val Loss: 0.070434\n",
            "Epoch [95/100] | Train Loss: 0.069286 | Val Loss: 0.070546\n",
            "Epoch [96/100] | Train Loss: 0.069157 | Val Loss: 0.070143\n",
            "Epoch [97/100] | Train Loss: 0.069080 | Val Loss: 0.072233\n",
            "Epoch [98/100] | Train Loss: 0.068973 | Val Loss: 0.070412\n",
            "Epoch [99/100] | Train Loss: 0.069095 | Val Loss: 0.070016\n",
            "Epoch [100/100] | Train Loss: 0.069263 | Val Loss: 0.072047\n"
          ]
        }
      ],
      "source": [
        "model2 = Autoencoder().to(device)\n",
        "criterion = nn.MSELoss()\n",
        "optimizer = optim.Adam(model2.parameters(), lr=0.001)\n",
        "lambda_l1 = 0.001\n",
        "\n",
        "num_epochs = 100\n",
        "for epoch in range(num_epochs):\n",
        "    model2.train()\n",
        "    train_loss = 0\n",
        "\n",
        "    for img, _ in train_loader:\n",
        "        img = img.to(device)\n",
        "        optimizer.zero_grad()\n",
        "\n",
        "        output = model2(img.view(-1, 3, 32, 32))\n",
        "        loss = criterion(output, img)\n",
        "\n",
        "        l1_loss = sum(p.abs().sum() for p in model2.parameters())\n",
        "        loss = loss + lambda_l1 * l1_loss\n",
        "\n",
        "        loss.backward()\n",
        "        optimizer.step()\n",
        "        clip_weights(model2, -0.5, 0.5)\n",
        "\n",
        "        train_loss += loss.item() * img.size(0)\n",
        "\n",
        "    avg_train_loss = train_loss / len(train_loader.dataset)\n",
        "\n",
        "    model2.eval()\n",
        "    val_loss = 0\n",
        "    with torch.no_grad():\n",
        "        for img, _ in val_loader:\n",
        "            img = img.to(device)\n",
        "            output = model2(img.view(-1, 3, 32, 32))\n",
        "            loss = criterion(output, img)\n",
        "\n",
        "            l1_loss = sum(p.abs().sum() for p in model2.parameters())\n",
        "            loss = loss + lambda_l1 * l1_loss\n",
        "\n",
        "            val_loss += loss.item() * img.size(0)\n",
        "\n",
        "    avg_val_loss = val_loss / len(val_loader.dataset)\n",
        "    print(f\"Epoch [{epoch+1}/{num_epochs}] | Train Loss: {avg_train_loss:.6f} | Val Loss: {avg_val_loss:.6f}\")"
      ]
    },
    {
      "cell_type": "code",
      "execution_count": null,
      "metadata": {
        "id": "TsWkDbX8cInx"
      },
      "outputs": [],
      "source": [
        "def psnr(mse):\n",
        "    return -10 * np.log10(mse)\n",
        "\n",
        "def evaluate_autoencoder(model, dataloader, criterion, device):\n",
        "    model.eval()\n",
        "    total_mse = 0\n",
        "    num_images = 0\n",
        "    all_originals = []\n",
        "    all_reconstructions = []\n",
        "\n",
        "    with torch.no_grad():\n",
        "        for img, _ in dataloader:\n",
        "            img = img.to(device)\n",
        "            output = model(img)\n",
        "\n",
        "            mse = criterion(output, img)\n",
        "            total_mse += mse.item() * img.size(0)\n",
        "            num_images += img.size(0)\n",
        "\n",
        "            if len(all_originals) < 5:\n",
        "                all_originals.append(img.cpu())\n",
        "                all_reconstructions.append(output.cpu())\n",
        "\n",
        "    avg_mse = total_mse / num_images\n",
        "    psnr_value = psnr(avg_mse)\n",
        "\n",
        "    print(f\"Test MSE: {avg_mse:.6f}\")\n",
        "    print(f\"PSNR: {psnr_value:.2f} dB\")\n",
        "\n",
        "    fig, axes = plt.subplots(2, 5, figsize=(10, 4))\n",
        "\n",
        "    for i in range(5):\n",
        "        axes[0, i].imshow(np.transpose(all_originals[i][0], (1, 2, 0)))\n",
        "        axes[0, i].axis('off')\n",
        "\n",
        "        axes[1, i].imshow(np.transpose(all_reconstructions[i][0], (1, 2, 0)))\n",
        "        axes[1, i].axis('off')\n",
        "\n",
        "    axes[0, 0].set_title(\"Original Images\")\n",
        "    axes[1, 0].set_title(\"Reconstructed Images\")\n",
        "\n",
        "    plt.show()\n",
        "\n",
        "    return avg_mse, psnr_value"
      ]
    },
    {
      "cell_type": "code",
      "execution_count": null,
      "metadata": {
        "id": "re8pD9H_cInx",
        "outputId": "0538cf7c-9c23-4ef6-f5bf-336ae01a09be"
      },
      "outputs": [
        {
          "name": "stdout",
          "output_type": "stream",
          "text": [
            "Model 1: ReLU & DropOut & Adam (Weight Clipping):\n",
            "Test MSE: 0.000746\n",
            "PSNR: 31.28 dB\n"
          ]
        },
        {
          "name": "stderr",
          "output_type": "stream",
          "text": [
            "Clipping input data to the valid range for imshow with RGB data ([0..1] for floats or [0..255] for integers). Got range [-1.0..-0.019607842].\n",
            "Clipping input data to the valid range for imshow with RGB data ([0..1] for floats or [0..255] for integers). Got range [-0.9980636..0.043454535].\n",
            "Clipping input data to the valid range for imshow with RGB data ([0..1] for floats or [0..255] for integers). Got range [-0.6392157..0.654902].\n",
            "Clipping input data to the valid range for imshow with RGB data ([0..1] for floats or [0..255] for integers). Got range [-0.6272505..0.6571171].\n",
            "Clipping input data to the valid range for imshow with RGB data ([0..1] for floats or [0..255] for integers). Got range [-1.0..0.70980394].\n",
            "Clipping input data to the valid range for imshow with RGB data ([0..1] for floats or [0..255] for integers). Got range [-0.9975983..0.7119958].\n",
            "Clipping input data to the valid range for imshow with RGB data ([0..1] for floats or [0..255] for integers). Got range [-1.0..0.654902].\n",
            "Clipping input data to the valid range for imshow with RGB data ([0..1] for floats or [0..255] for integers). Got range [-0.99922323..0.6923392].\n",
            "Clipping input data to the valid range for imshow with RGB data ([0..1] for floats or [0..255] for integers). Got range [-1.0..0.4431373].\n",
            "Clipping input data to the valid range for imshow with RGB data ([0..1] for floats or [0..255] for integers). Got range [-0.98957527..0.4340631].\n"
          ]
        },
        {
          "data": {
            "image/png": "[encoded data removed]",
            "text/plain": [
              "<Figure size 1000x400 with 10 Axes>"
            ]
          },
          "metadata": {},
          "output_type": "display_data"
        }
      ],
      "source": [
        "print(\"Model 1: ReLU & DropOut & Adam (Weight Clipping):\")\n",
        "mse, psnr1 = evaluate_autoencoder(model1, test_loader, criterion, device)"
      ]
    },
    {
      "cell_type": "code",
      "execution_count": null,
      "metadata": {
        "id": "oTidFcuxcInx",
        "outputId": "f181cbf9-f7e4-4bf1-bd9f-e110e9b5d489"
      },
      "outputs": [
        {
          "name": "stdout",
          "output_type": "stream",
          "text": [
            "Model 2: ReLU & DropOut & Adam (Weight Clipping + L1):\n"
          ]
        },
        {
          "name": "stderr",
          "output_type": "stream",
          "text": [
            "Clipping input data to the valid range for imshow with RGB data ([0..1] for floats or [0..255] for integers). Got range [-1.0..-0.019607842].\n",
            "Clipping input data to the valid range for imshow with RGB data ([0..1] for floats or [0..255] for integers). Got range [-0.9189492..-0.12386318].\n",
            "Clipping input data to the valid range for imshow with RGB data ([0..1] for floats or [0..255] for integers). Got range [-1.0..0.654902].\n",
            "Clipping input data to the valid range for imshow with RGB data ([0..1] for floats or [0..255] for integers). Got range [-0.9614631..0.5725745].\n",
            "Clipping input data to the valid range for imshow with RGB data ([0..1] for floats or [0..255] for integers). Got range [-1.0..0.70980394].\n",
            "Clipping input data to the valid range for imshow with RGB data ([0..1] for floats or [0..255] for integers). Got range [-0.94023776..0.6450326].\n",
            "Clipping input data to the valid range for imshow with RGB data ([0..1] for floats or [0..255] for integers). Got range [-1.0..0.654902].\n",
            "Clipping input data to the valid range for imshow with RGB data ([0..1] for floats or [0..255] for integers). Got range [-0.9216544..0.49882832].\n",
            "Clipping input data to the valid range for imshow with RGB data ([0..1] for floats or [0..255] for integers). Got range [-1.0..0.33333337].\n",
            "Clipping input data to the valid range for imshow with RGB data ([0..1] for floats or [0..255] for integers). Got range [-0.8913356..0.2536388].\n"
          ]
        },
        {
          "name": "stdout",
          "output_type": "stream",
          "text": [
            "Test MSE: 0.014863\n",
            "PSNR: 18.28 dB\n"
          ]
        },
        {
          "data": {
            "image/png": "[encoded data removed]",
            "text/plain": [
              "<Figure size 1000x400 with 10 Axes>"
            ]
          },
          "metadata": {},
          "output_type": "display_data"
        }
      ],
      "source": [
        "print(\"Model 2: ReLU & DropOut & Adam (Weight Clipping + L1):\")\n",
        "mse, psnr2 = evaluate_autoencoder(model2, test_loader, criterion, device)"
      ]
    },
    {
      "cell_type": "code",
      "execution_count": null,
      "metadata": {
        "id": "EpoxqzKNcIny"
      },
      "outputs": [],
      "source": [
        "class AutoencoderLeakyReLU(nn.Module):\n",
        "    def __init__(self):\n",
        "        super(AutoencoderLeakyReLU, self).__init__()\n",
        "\n",
        "        self.encoder = nn.Sequential(\n",
        "            nn.Conv2d(3, 32, kernel_size=3, stride=2, padding=1),\n",
        "            nn.BatchNorm2d(32),\n",
        "            nn.LeakyReLU(0.2, inplace=True),\n",
        "\n",
        "            nn.Conv2d(32, 64, kernel_size=3, stride=2, padding=1),\n",
        "            nn.BatchNorm2d(64),\n",
        "            nn.LeakyReLU(0.2, inplace=True),\n",
        "\n",
        "            nn.Conv2d(64, 128, kernel_size=3, stride=2, padding=1),\n",
        "            nn.BatchNorm2d(128),\n",
        "            nn.LeakyReLU(0.2, inplace=True)\n",
        "        )\n",
        "\n",
        "        self.decoder = nn.Sequential(\n",
        "            nn.ConvTranspose2d(128, 64, kernel_size=3, stride=2, padding=1, output_padding=1),\n",
        "            nn.BatchNorm2d(64),\n",
        "            nn.LeakyReLU(0.2, inplace=True),\n",
        "\n",
        "            nn.ConvTranspose2d(64, 32, kernel_size=3, stride=2, padding=1, output_padding=1),\n",
        "            nn.BatchNorm2d(32),\n",
        "            nn.LeakyReLU(0.2, inplace=True),\n",
        "\n",
        "            nn.ConvTranspose2d(32, 3, kernel_size=3, stride=2, padding=1, output_padding=1),\n",
        "            nn.Tanh()\n",
        "        )\n",
        "\n",
        "    def forward(self, x):\n",
        "        encoded = self.encoder(x)\n",
        "        decoded = self.decoder(encoded)\n",
        "        return decoded\n",
        "\n",
        "model3 = AutoencoderLeakyReLU().to(device)\n",
        "optimizer = optim.RMSprop(model3.parameters(), lr=0.001)"
      ]
    },
    {
      "cell_type": "code",
      "execution_count": null,
      "metadata": {
        "id": "ydaPHZmCcIny",
        "outputId": "20d994fd-ece9-4ed9-fe56-4fbd0b783ed3"
      },
      "outputs": [
        {
          "name": "stdout",
          "output_type": "stream",
          "text": [
            "Epoch [1/100] | Train Loss: 0.035123 | Val Loss: 0.012957\n",
            "Epoch [2/100] | Train Loss: 0.010974 | Val Loss: 0.009709\n",
            "Epoch [3/100] | Train Loss: 0.008484 | Val Loss: 0.007974\n",
            "Epoch [4/100] | Train Loss: 0.007125 | Val Loss: 0.007701\n",
            "Epoch [5/100] | Train Loss: 0.006060 | Val Loss: 0.005441\n",
            "Epoch [6/100] | Train Loss: 0.005495 | Val Loss: 0.005982\n",
            "Epoch [7/100] | Train Loss: 0.004908 | Val Loss: 0.004827\n",
            "Epoch [8/100] | Train Loss: 0.004507 | Val Loss: 0.004881\n",
            "Epoch [9/100] | Train Loss: 0.004185 | Val Loss: 0.005146\n",
            "Epoch [10/100] | Train Loss: 0.003949 | Val Loss: 0.003621\n",
            "Epoch [11/100] | Train Loss: 0.003737 | Val Loss: 0.003311\n",
            "Epoch [12/100] | Train Loss: 0.003526 | Val Loss: 0.003160\n",
            "Epoch [13/100] | Train Loss: 0.003373 | Val Loss: 0.003988\n",
            "Epoch [14/100] | Train Loss: 0.003198 | Val Loss: 0.003390\n",
            "Epoch [15/100] | Train Loss: 0.003091 | Val Loss: 0.002863\n",
            "Epoch [16/100] | Train Loss: 0.002925 | Val Loss: 0.003697\n",
            "Epoch [17/100] | Train Loss: 0.002755 | Val Loss: 0.002917\n",
            "Epoch [18/100] | Train Loss: 0.002818 | Val Loss: 0.002852\n",
            "Epoch [19/100] | Train Loss: 0.002646 | Val Loss: 0.002696\n",
            "Epoch [20/100] | Train Loss: 0.002606 | Val Loss: 0.002214\n",
            "Epoch [21/100] | Train Loss: 0.002484 | Val Loss: 0.002995\n",
            "Epoch [22/100] | Train Loss: 0.002443 | Val Loss: 0.002154\n",
            "Epoch [23/100] | Train Loss: 0.002394 | Val Loss: 0.002229\n",
            "Epoch [24/100] | Train Loss: 0.002270 | Val Loss: 0.002277\n",
            "Epoch [25/100] | Train Loss: 0.002269 | Val Loss: 0.002029\n",
            "Epoch [26/100] | Train Loss: 0.002230 | Val Loss: 0.001989\n",
            "Epoch [27/100] | Train Loss: 0.002220 | Val Loss: 0.002460\n",
            "Epoch [28/100] | Train Loss: 0.002112 | Val Loss: 0.002078\n",
            "Epoch [29/100] | Train Loss: 0.002046 | Val Loss: 0.002529\n",
            "Epoch [30/100] | Train Loss: 0.001996 | Val Loss: 0.002950\n",
            "Epoch [31/100] | Train Loss: 0.001957 | Val Loss: 0.001812\n",
            "Epoch [32/100] | Train Loss: 0.001948 | Val Loss: 0.002105\n",
            "Epoch [33/100] | Train Loss: 0.001851 | Val Loss: 0.001475\n",
            "Epoch [34/100] | Train Loss: 0.001839 | Val Loss: 0.002186\n",
            "Epoch [35/100] | Train Loss: 0.001875 | Val Loss: 0.001665\n",
            "Epoch [36/100] | Train Loss: 0.001759 | Val Loss: 0.001773\n",
            "Epoch [37/100] | Train Loss: 0.001750 | Val Loss: 0.001825\n",
            "Epoch [38/100] | Train Loss: 0.001675 | Val Loss: 0.001609\n",
            "Epoch [39/100] | Train Loss: 0.001716 | Val Loss: 0.001741\n",
            "Epoch [40/100] | Train Loss: 0.001707 | Val Loss: 0.001897\n",
            "Epoch [41/100] | Train Loss: 0.001656 | Val Loss: 0.002197\n",
            "Epoch [42/100] | Train Loss: 0.001641 | Val Loss: 0.001510\n",
            "Epoch [43/100] | Train Loss: 0.001607 | Val Loss: 0.001545\n",
            "Epoch [44/100] | Train Loss: 0.001591 | Val Loss: 0.001696\n",
            "Epoch [45/100] | Train Loss: 0.001604 | Val Loss: 0.001514\n",
            "Epoch [46/100] | Train Loss: 0.001517 | Val Loss: 0.001537\n",
            "Epoch [47/100] | Train Loss: 0.001494 | Val Loss: 0.001627\n",
            "Epoch [48/100] | Train Loss: 0.001507 | Val Loss: 0.001428\n",
            "Epoch [49/100] | Train Loss: 0.001536 | Val Loss: 0.001852\n",
            "Epoch [50/100] | Train Loss: 0.001467 | Val Loss: 0.001291\n",
            "Epoch [51/100] | Train Loss: 0.001490 | Val Loss: 0.001170\n",
            "Epoch [52/100] | Train Loss: 0.001411 | Val Loss: 0.001401\n",
            "Epoch [53/100] | Train Loss: 0.001444 | Val Loss: 0.001366\n",
            "Epoch [54/100] | Train Loss: 0.001436 | Val Loss: 0.001298\n",
            "Epoch [55/100] | Train Loss: 0.001405 | Val Loss: 0.001611\n",
            "Epoch [56/100] | Train Loss: 0.001329 | Val Loss: 0.001622\n",
            "Epoch [57/100] | Train Loss: 0.001342 | Val Loss: 0.001187\n",
            "Epoch [58/100] | Train Loss: 0.001364 | Val Loss: 0.001175\n",
            "Epoch [59/100] | Train Loss: 0.001365 | Val Loss: 0.001205\n",
            "Epoch [60/100] | Train Loss: 0.001320 | Val Loss: 0.001300\n",
            "Epoch [61/100] | Train Loss: 0.001320 | Val Loss: 0.001084\n",
            "Epoch [62/100] | Train Loss: 0.001381 | Val Loss: 0.001204\n",
            "Epoch [63/100] | Train Loss: 0.001292 | Val Loss: 0.001641\n",
            "Epoch [64/100] | Train Loss: 0.001365 | Val Loss: 0.001496\n",
            "Epoch [65/100] | Train Loss: 0.001299 | Val Loss: 0.001332\n",
            "Epoch [66/100] | Train Loss: 0.001255 | Val Loss: 0.001103\n",
            "Epoch [67/100] | Train Loss: 0.001255 | Val Loss: 0.001218\n",
            "Epoch [68/100] | Train Loss: 0.001264 | Val Loss: 0.001567\n",
            "Epoch [69/100] | Train Loss: 0.001225 | Val Loss: 0.001092\n",
            "Epoch [70/100] | Train Loss: 0.001221 | Val Loss: 0.001030\n",
            "Epoch [71/100] | Train Loss: 0.001282 | Val Loss: 0.000975\n",
            "Epoch [72/100] | Train Loss: 0.001197 | Val Loss: 0.001039\n",
            "Epoch [73/100] | Train Loss: 0.001198 | Val Loss: 0.001187\n",
            "Epoch [74/100] | Train Loss: 0.001169 | Val Loss: 0.000980\n",
            "Epoch [75/100] | Train Loss: 0.001169 | Val Loss: 0.001510\n",
            "Epoch [76/100] | Train Loss: 0.001207 | Val Loss: 0.001136\n",
            "Epoch [77/100] | Train Loss: 0.001205 | Val Loss: 0.000989\n",
            "Epoch [78/100] | Train Loss: 0.001169 | Val Loss: 0.000974\n",
            "Epoch [79/100] | Train Loss: 0.001161 | Val Loss: 0.001133\n",
            "Epoch [80/100] | Train Loss: 0.001128 | Val Loss: 0.000907\n",
            "Epoch [81/100] | Train Loss: 0.001083 | Val Loss: 0.001294\n",
            "Epoch [82/100] | Train Loss: 0.001148 | Val Loss: 0.001158\n",
            "Epoch [83/100] | Train Loss: 0.001104 | Val Loss: 0.001045\n",
            "Epoch [84/100] | Train Loss: 0.001087 | Val Loss: 0.001176\n",
            "Epoch [85/100] | Train Loss: 0.001078 | Val Loss: 0.000956\n",
            "Epoch [86/100] | Train Loss: 0.001137 | Val Loss: 0.000836\n",
            "Epoch [87/100] | Train Loss: 0.001076 | Val Loss: 0.000986\n",
            "Epoch [88/100] | Train Loss: 0.001146 | Val Loss: 0.000788\n",
            "Epoch [89/100] | Train Loss: 0.001051 | Val Loss: 0.001540\n",
            "Epoch [90/100] | Train Loss: 0.001136 | Val Loss: 0.001235\n",
            "Epoch [91/100] | Train Loss: 0.001073 | Val Loss: 0.001090\n",
            "Epoch [92/100] | Train Loss: 0.001090 | Val Loss: 0.001238\n",
            "Epoch [93/100] | Train Loss: 0.001084 | Val Loss: 0.000877\n",
            "Epoch [94/100] | Train Loss: 0.001042 | Val Loss: 0.001075\n",
            "Epoch [95/100] | Train Loss: 0.001076 | Val Loss: 0.001050\n",
            "Epoch [96/100] | Train Loss: 0.001073 | Val Loss: 0.000902\n",
            "Epoch [97/100] | Train Loss: 0.001039 | Val Loss: 0.000935\n",
            "Epoch [98/100] | Train Loss: 0.001048 | Val Loss: 0.000845\n",
            "Epoch [99/100] | Train Loss: 0.001027 | Val Loss: 0.000968\n",
            "Epoch [100/100] | Train Loss: 0.001022 | Val Loss: 0.000819\n"
          ]
        }
      ],
      "source": [
        "num_epochs = 100\n",
        "for epoch in range(num_epochs):\n",
        "    model3.train()\n",
        "    train_loss = 0\n",
        "\n",
        "    for img, _ in train_loader:\n",
        "        img = img.to(device)\n",
        "        optimizer.zero_grad()\n",
        "\n",
        "        output = model3(img.view(-1, 3, 32, 32))\n",
        "        loss = criterion(output, img)\n",
        "\n",
        "        loss.backward()\n",
        "        optimizer.step()\n",
        "        clip_weights(model3, -0.5, 0.5)\n",
        "\n",
        "        train_loss += loss.item() * img.size(0)\n",
        "\n",
        "    avg_train_loss = train_loss / len(train_loader.dataset)\n",
        "\n",
        "    model3.eval()\n",
        "    val_loss = 0\n",
        "    with torch.no_grad():\n",
        "        for img, _ in val_loader:\n",
        "            img = img.to(device)\n",
        "            output = model3(img.view(-1, 3, 32, 32))\n",
        "            loss = criterion(output, img)\n",
        "            val_loss += loss.item() * img.size(0)\n",
        "\n",
        "    avg_val_loss = val_loss / len(val_loader.dataset)\n",
        "\n",
        "    print(f\"Epoch [{epoch+1}/{num_epochs}] | Train Loss: {avg_train_loss:.6f} | Val Loss: {avg_val_loss:.6f}\")"
      ]
    },
    {
      "cell_type": "code",
      "execution_count": null,
      "metadata": {
        "id": "s-1qedXkcIny",
        "outputId": "e75d6c22-598c-4b8f-bedc-e6573ffa02fb"
      },
      "outputs": [
        {
          "name": "stdout",
          "output_type": "stream",
          "text": [
            "Model 3: LeakyReLU & RMSProp (Weight Clipping + L1 Sparsity):\n"
          ]
        },
        {
          "name": "stderr",
          "output_type": "stream",
          "text": [
            "Clipping input data to the valid range for imshow with RGB data ([0..1] for floats or [0..255] for integers). Got range [-1.0..-0.035294116].\n",
            "Clipping input data to the valid range for imshow with RGB data ([0..1] for floats or [0..255] for integers). Got range [-0.99727863..0.048675902].\n",
            "Clipping input data to the valid range for imshow with RGB data ([0..1] for floats or [0..255] for integers). Got range [-1.0..0.654902].\n",
            "Clipping input data to the valid range for imshow with RGB data ([0..1] for floats or [0..255] for integers). Got range [-0.99978465..0.62986696].\n",
            "Clipping input data to the valid range for imshow with RGB data ([0..1] for floats or [0..255] for integers). Got range [-1.0..0.70980394].\n",
            "Clipping input data to the valid range for imshow with RGB data ([0..1] for floats or [0..255] for integers). Got range [-0.9997964..0.6673035].\n",
            "Clipping input data to the valid range for imshow with RGB data ([0..1] for floats or [0..255] for integers). Got range [-1.0..0.654902].\n",
            "Clipping input data to the valid range for imshow with RGB data ([0..1] for floats or [0..255] for integers). Got range [-0.9986154..0.61271757].\n",
            "Clipping input data to the valid range for imshow with RGB data ([0..1] for floats or [0..255] for integers). Got range [-1.0..0.4431373].\n",
            "Clipping input data to the valid range for imshow with RGB data ([0..1] for floats or [0..255] for integers). Got range [-0.9930718..0.45467517].\n"
          ]
        },
        {
          "name": "stdout",
          "output_type": "stream",
          "text": [
            "Test MSE: 0.000802\n",
            "PSNR: 30.96 dB\n"
          ]
        },
        {
          "data": {
            "image/png": "[encoded data removed]",
            "text/plain": [
              "<Figure size 1000x400 with 10 Axes>"
            ]
          },
          "metadata": {},
          "output_type": "display_data"
        }
      ],
      "source": [
        "print(\"Model 3: LeakyReLU & RMSProp (Weight Clipping + L1 Sparsity):\")\n",
        "mse, psnr3 = evaluate_autoencoder(model3, test_loader, criterion, device)"
      ]
    },
    {
      "cell_type": "code",
      "execution_count": null,
      "metadata": {
        "id": "k-V_MjSCcIny",
        "outputId": "516e2bf1-a9ea-4274-d649-f99470e961b6",
        "colab": {
          "base_uri": "https://localhost:8080/"
        }
      },
      "outputs": [
        {
          "output_type": "stream",
          "name": "stdout",
          "text": [
            "PSNR for Model 1: ReLU & DropOut & Adam (Weight Clipping): 31.28 dB\n",
            "PSNR for Model 2: ReLU & DropOut & Adam (Weight Clipping + L1): 18.28 dB\n",
            "PSNR for Model 3: LeakyReLU & RMSProp (Weight Clipping + L1): 30.96 dB\n"
          ]
        }
      ],
      "source": [
        "print(f'PSNR for Model 1: ReLU & Adam (Weight Clipping): {psnr1:.2f} dB')\n",
        "print(f'PSNR for Model 2: ReLU & Adam (Weight Clipping + L1): {psnr2:.2f} dB')\n",
        "print(f'PSNR for Model 3: LeakyReLU & RMSProp (Weight Clipping + L1): {psnr3:.2f} dB')"
      ]
    }
  ]
}